{
 "cells": [
  {
   "cell_type": "markdown",
   "metadata": {},
   "source": [
    "# 1. Building Abstractions with Procedures\n",
    "## 1.1 The Elements of Programming\n",
    "First section of the chapter is primarily focused on syntax of Scheme, I will not take any notes regarding that topics, however there is one interesting example in the book.\n",
    "\n",
    "### Square Roots by Newton's Method\n",
    "Using recursion as iteration because there is NO loop structure in Scheme!!! First we define a `sqrt-iter` method, it checks if the guess is close enough to the target, if so, it will return the guess otherwise call itself again with an improved version of the guess.\n",
    "```scheme\n",
    "(define (sqrt-iter guess target)\n",
    "  (if (good-enough? guess target) guess (sqrt-iter (improve guess target) target)))\n",
    "```\n",
    "\n",
    "`good-enough?` is an approximation check\n",
    "```scheme\n",
    "(define (good-enough? guess target)\n",
    "  (< (abs (- (square guess) target)) 0.0001))\n",
    "```\n",
    "\n",
    "A guess is improved by averaging it with the target\n",
    "```scheme\n",
    "(define (improve guess target)\n",
    "  (average guess (/ target guess)))\n",
    "\n",
    "(define (average x y)\n",
    "  (/ (+ x y) 2))\n",
    "```\n",
    "\n",
    "Finally, the `sqrt` method is defined as follows, using 1 as the initial guess\n",
    "```scheme\n",
    "(define (sqrt num)\n",
    "  (sqrt-iter 1.0 num))\n",
    "```"
   ]
  },
  {
   "cell_type": "code",
   "execution_count": 6,
   "metadata": {},
   "outputs": [
    {
     "data": {
      "text/plain": [
       "1.4142156862745097"
      ]
     },
     "execution_count": 6,
     "metadata": {},
     "output_type": "execute_result"
    }
   ],
   "source": [
    "def sqrt_iter(guess, target):\n",
    "    if is_good_enough(guess, target):\n",
    "        return guess\n",
    "    return sqrt_iter(improve(guess, target), target)\n",
    "\n",
    "def is_good_enough(guess, target):\n",
    "    return abs(guess**2 - target) < 0.0001\n",
    "\n",
    "def improve(guess, target):\n",
    "    return average(guess, target/guess)\n",
    "\n",
    "def average(x, y):\n",
    "    return (x + y) / 2.0\n",
    "\n",
    "def sqrt(num):\n",
    "    return sqrt_iter(1.0, num)\n",
    "\n",
    "sqrt(2)"
   ]
  },
  {
   "cell_type": "markdown",
   "metadata": {},
   "source": [
    "### Cube Roots by Netwon's Method\n",
    "```scheme\n",
    "(define (cube-root-iter guess target)\n",
    "  (if (cube-good-enough? guess target) guess (cube-root-iter (improve-cube-guess guess target) target)))\n",
    "\n",
    "(define (improve-cube-guess guess target)\n",
    "  (/ (+ (/ target (square guess)) (* 2 guess)) 3))\n",
    "\n",
    "(define (cube-good-enough? guess target)\n",
    "  (< (abs (- (* (square guess) guess) target)) 0.0001))\n",
    "\n",
    "(define (cube-root num)\n",
    "  (cube-root-iter 1.0 num))\n",
    "```\n",
    "\n",
    "We can improve our solution using internal definition and block structure\n",
    "```scheme\n",
    "(define (sqrt x)\n",
    "  (define (good-enough? guess)\n",
    "    (< (abs (- (square guess) x)) 0.001))\n",
    "  (define (improve guess)\n",
    "    (average guess (/ x guess)))\n",
    "  (define (sqrt-iter guess)\n",
    "    (if (good-enough? guess) guess (sqrt-iter (improve guess))))\n",
    "  (sqrt-iter 1.0))\n",
    "```"
   ]
  },
  {
   "cell_type": "markdown",
   "metadata": {},
   "source": [
    "## 1.2 Procedures and Processes They Generate\n",
    "Think about factorials, the classic example of recursion. There are actually two ways to go about doing it recursively. \n",
    "\n",
    "This is a linear recursive process \n",
    "```scheme\n",
    "(define (factorial n)\n",
    "  (if (= n 1) 1 (* n (factorial(- n 1)))))\n",
    "```\n",
    "\n",
    "Now this is a linear iterative process\n",
    "```scheme\n",
    "(define (factorial n)\n",
    "  (fact-iter 1 1 n))\n",
    "\n",
    "(define (fact-iter product counter max-count)\n",
    "  (if (> counter max-count) product\n",
    "    (fact-iter (* counter product) (+ counter 1) max-count)))\n",
    "```\n",
    "\n",
    "Notice the difference? The second method keeps its internal state.\n",
    "\n",
    "\n",
    "### Key Idea\n",
    "In contrasting iteration and recursion, we must be careful not to confuse the notion of a recursive process with the notion of a recursive procedure. When we describe the procedure as recurisve, we are referring to the syntactic fact that the procedure definition refers to the procedure itself. But when we describe a process as following a pattern that is, say, linearly recursive, we are speaking about how the process evolves, not about the syntax of how a procedure is written. It may seem disturbing that we refer a recursive procedure such as `fact-iter` as generating an iterative process. However the process really is iterative: Its state is captured completely by its three state variables, and an interpreter need keep track of only three variables in order to execute the process.\n",
    "\n",
    "### Counting Change\n",
    "The number of ways to change the amount `a` using `n` kinds of coins equals to the sum of the following:\n",
    "1. the number of ways to change amount `a` using all BUT the first kind of coin\n",
    "2. the number of ways to change amount `a - d` using all `n` kinds of coins, where `d` is the denomination of the first kind of coin.\n",
    "\n",
    "\n",
    "To see why this is true, the ways to make change can be dvided into two groups; those that do not use any of the first kind of coin and those that do.\n",
    "\n",
    "* If `a` is exactly 0, we should count that as 1 way to make change\n",
    "* If `a` is less than 0, we should count that as 0 ways to make change\n",
    "* If `n` is 0, we should count that as 0 ways to make change\n",
    "\n",
    "```scheme\n",
    "(define (count-change amount)\n",
    "  (cc amount 5))\n",
    "\n",
    "(define (cc amount kinds-of-coins)\n",
    "  (cond ((= amount 0) 1)\n",
    "        ((or (< amount 0) (= kinds-of-coins 0)) 0)\n",
    "        (else (+ (cc amount (- kinds-of-coins 1)) (cc (- amount (first-denomination kinds-of-coins)) kinds-of-coins)))))\n",
    "\n",
    "(define (first-denomination kinds-of-coins)\n",
    "  (cond ((= kinds-of-coins 1) 1)\n",
    "        ((= kinds-of-coins 2) 5)\n",
    "        ((= kinds-of-coins 3) 10)\n",
    "        ((= kinds-of-coins 4) 25)\n",
    "        ((= kinds-of-coins 5) 50)))\n",
    "```\n",
    "\n",
    "### Testing for Primality\n",
    "\n",
    "#### Sqrt(n) Solution\n",
    "\n",
    "\n",
    "#### The Fermat Test Solution"
   ]
  },
  {
   "cell_type": "markdown",
   "metadata": {},
   "source": [
    "## 1.3 Formulating Abstractions with Higher-Order Procedures\n",
    "This is equivalent to using higher order function to create new function which is commonly used in Redux."
   ]
  },
  {
   "cell_type": "code",
   "execution_count": null,
   "metadata": {},
   "outputs": [],
   "source": []
  }
 ],
 "metadata": {
  "kernelspec": {
   "display_name": "Python 2",
   "language": "python",
   "name": "python2"
  },
  "language_info": {
   "codemirror_mode": {
    "name": "ipython",
    "version": 2
   },
   "file_extension": ".py",
   "mimetype": "text/x-python",
   "name": "python",
   "nbconvert_exporter": "python",
   "pygments_lexer": "ipython2",
   "version": "2.7.12"
  }
 },
 "nbformat": 4,
 "nbformat_minor": 2
}
